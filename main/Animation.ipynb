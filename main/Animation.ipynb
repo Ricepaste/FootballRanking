{
 "cells": [
  {
   "cell_type": "code",
   "execution_count": 17,
   "metadata": {},
   "outputs": [
    {
     "data": {
      "application/vnd.jupyter.widget-view+json": {
       "model_id": "15a64a45c00c4fb5ae6dcace279afc4f",
       "version_major": 2,
       "version_minor": 0
      },
      "text/plain": [
       "interactive(children=(IntSlider(value=10, description='x', max=20), IntSlider(value=10, description='y', max=2…"
      ]
     },
     "execution_count": 17,
     "metadata": {},
     "output_type": "execute_result"
    }
   ],
   "source": [
    "%matplotlib inline\n",
    "import matplotlib.pyplot as plt\n",
    "from ipywidgets import interactive\n",
    "import itertools\n",
    "import numpy as np\n",
    "from scipy.stats import norm\n",
    "\n",
    "# 假设均值 mu 和标准偏差 sigma\n",
    "sigma = 1\n",
    "\n",
    "def plot_preference_and_results(x, y, z):\n",
    "    mu = [x, y, z]  # 根据滑块调节的期望值\n",
    "    teams_name = ['Team X', 'Team Y', 'Team Z']\n",
    "\n",
    "    # 获取所有C3取2的组合\n",
    "    matches = list(itertools.combinations(mu, 2))\n",
    "    matches_names = list(itertools.combinations(teams_name, 2))\n",
    "\n",
    "    # 计算每一对组合的比赛结果\n",
    "    results = {}\n",
    "    for match, names in zip(matches, matches_names):\n",
    "        result = match[0] - match[1]\n",
    "        winner = names[0] if result > 0 else names[1]\n",
    "        results[names] = winner\n",
    "\n",
    "    # 畫出比賽結果\n",
    "    plt.figure(figsize=(14, 6))\n",
    "    plt.subplot(1, 2, 1)\n",
    "    plt.text(0.4, 0.6, \"Match Result\")\n",
    "    for (i, ((team1, team2), winner)) in enumerate(results.items()):\n",
    "        plt.text(0.5, 0.5-i/8.0, f\"{team1} vs {team2} - Winner: {winner}\\n\", ha='center')\n",
    "\n",
    "    plt.axis('off')\n",
    "\n",
    "    # 畫出实力对比\n",
    "    plt.subplot(1, 2, 2)\n",
    "    x_axis = np.linspace(0, 20, 100)\n",
    "    for i, mu_val in enumerate(mu):\n",
    "        plt.plot(x_axis, norm.pdf(x_axis, mu_val, sigma), label=f'Team {teams_name[i]}')\n",
    "        \n",
    "    plt.legend()\n",
    "    plt.title('Team Strengths (Normal Distribution)')\n",
    "    plt.xlabel('Strength value')\n",
    "    plt.ylabel('Probability Density')\n",
    "    plt.show()\n",
    "\n",
    "# 创建互动式控制元件\n",
    "interactive_plot = interactive(plot_preference_and_results,\n",
    "                               x=(0, 20, 1),\n",
    "                               y=(0, 20, 1),\n",
    "                               z=(0, 20, 1))\n",
    "\n",
    "# 显示互动式动画\n",
    "interactive_plot"
   ]
  }
 ],
 "metadata": {
  "kernelspec": {
   "display_name": "Python 3",
   "language": "python",
   "name": "python3"
  },
  "language_info": {
   "codemirror_mode": {
    "name": "ipython",
    "version": 3
   },
   "file_extension": ".py",
   "mimetype": "text/x-python",
   "name": "python",
   "nbconvert_exporter": "python",
   "pygments_lexer": "ipython3",
   "version": "3.10.2"
  }
 },
 "nbformat": 4,
 "nbformat_minor": 2
}
