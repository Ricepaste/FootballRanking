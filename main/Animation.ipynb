{
 "cells": [
  {
   "cell_type": "code",
   "execution_count": 2,
   "metadata": {},
   "outputs": [
    {
     "data": {
      "application/vnd.jupyter.widget-view+json": {
       "model_id": "d7f80627f1c344a0a1eec3bf72c67a87",
       "version_major": 2,
       "version_minor": 0
      },
      "text/plain": [
       "interactive(children=(IntSlider(value=10, description='x', max=20), IntSlider(value=10, description='y', max=2…"
      ]
     },
     "execution_count": 2,
     "metadata": {},
     "output_type": "execute_result"
    }
   ],
   "source": [
    "%matplotlib inline\n",
    "import matplotlib.pyplot as plt\n",
    "from ipywidgets import interactive\n",
    "import itertools\n",
    "import numpy as np\n",
    "from scipy.stats import norm\n",
    "plt.rcParams.update({'font.size': 16})\n",
    "\n",
    "sigma = [0.5, 1, 2]\n",
    "\n",
    "def plot_preference_and_results(x, y, z):\n",
    "    mu = [x, y, z] \n",
    "    teams_name = ['Team X', 'Team Y', 'Team Z']\n",
    "\n",
    "    matches = list(itertools.combinations(mu, 2))\n",
    "    matches_names = list(itertools.combinations(teams_name, 2))\n",
    "\n",
    "    results = {}\n",
    "    for match, names in zip(matches, matches_names):\n",
    "        result = match[0] - match[1]\n",
    "        winner = names[0] if result > 0 else names[1]\n",
    "        results[names] = winner\n",
    "\n",
    "    plt.figure(figsize=(14, 6))\n",
    "    plt.subplot(1, 2, 1)\n",
    "    plt.text(0.4, 0.6, \"Match Result\")\n",
    "    for (i, ((team1, team2), winner)) in enumerate(results.items()):\n",
    "        plt.text(0.5, 0.5-i/8.0, f\"{team1} vs {team2} - Winner: {winner}\\n\", ha='center')\n",
    "\n",
    "    plt.axis('off')\n",
    "\n",
    "    plt.subplot(1, 2, 2)\n",
    "    x_axis = np.linspace(0, 20, 100)\n",
    "    for i, mu_val in enumerate(mu):\n",
    "        plt.plot(x_axis, norm.pdf(x_axis, mu_val, sigma[i]), label=f'Team {teams_name[i]}')\n",
    "        \n",
    "    plt.legend()\n",
    "    plt.title('Team Strengths (Normal Distribution)')\n",
    "    plt.xlabel('Strength value')\n",
    "    plt.ylabel('Probability Density')\n",
    "    plt.show()\n",
    "\n",
    "interactive_plot = interactive(plot_preference_and_results,\n",
    "                               x=(0, 20, 1),\n",
    "                               y=(0, 20, 1),\n",
    "                               z=(0, 20, 1))\n",
    "\n",
    "interactive_plot"
   ]
  }
 ],
 "metadata": {
  "kernelspec": {
   "display_name": "Python 3",
   "language": "python",
   "name": "python3"
  },
  "language_info": {
   "codemirror_mode": {
    "name": "ipython",
    "version": 3
   },
   "file_extension": ".py",
   "mimetype": "text/x-python",
   "name": "python",
   "nbconvert_exporter": "python",
   "pygments_lexer": "ipython3",
   "version": "3.10.2"
  }
 },
 "nbformat": 4,
 "nbformat_minor": 2
}
